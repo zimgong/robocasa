{
 "cells": [
  {
   "cell_type": "code",
   "execution_count": 181,
   "metadata": {},
   "outputs": [],
   "source": [
    "import h5py\n",
    "import numpy as np"
   ]
  },
  {
   "cell_type": "code",
   "execution_count": 182,
   "metadata": {},
   "outputs": [],
   "source": [
    "src_path = \"/home/zimgong/Documents/robocasa/datasets/v0.1\"\n",
    "filter_key = \"valid\"\n",
    "tgt_path = \"datasets/lerobot\"\n",
    "debug = True\n",
    "\n",
    "task_id = \"single_stage/kitchen_coffee/CoffeePressButton\"\n",
    "hdf5_file = f\"{src_path}/{task_id}/2024-04-25/demo_gentex_im128_randcams.hdf5\"\n",
    "\n",
    "# task_id = \"multi_stage/brewing/PrepareCoffee\"\n",
    "# hdf5_file = f\"{src_path}/{task_id}/2024-05-07/demo_im128.hdf5\"\n",
    "\n",
    "dataset_base = f\"robocasa/{task_id}\"\n",
    "hdf5_lw = f\"/home/zimgong/Downloads/ep_demo.hdf5\""
   ]
  },
  {
   "cell_type": "code",
   "execution_count": null,
   "metadata": {},
   "outputs": [],
   "source": [
    "all_filter_keys = None\n",
    "f = h5py.File(hdf5_file, \"r\")\n",
    "if filter_key is not None:\n",
    "    # use the demonstrations from the filter key instead\n",
    "    print(\"NOTE: using filter key {}\".format(filter_key))\n",
    "    demos = sorted(\n",
    "        [elem.decode(\"utf-8\") for elem in np.array(f[\"mask/{}\".format(filter_key)])]\n",
    "    )\n",
    "else:\n",
    "    # use all demonstrations\n",
    "    demos = sorted(list(f[\"data\"].keys()))\n",
    "\n",
    "    # extract filter key information\n",
    "    if \"mask\" in f:\n",
    "        all_filter_keys = {}\n",
    "        for fk in f[\"mask\"]:\n",
    "            fk_demos = sorted(\n",
    "                [elem.decode(\"utf-8\") for elem in np.array(f[\"mask/{}\".format(fk)])]\n",
    "            )\n",
    "            all_filter_keys[fk] = fk_demos\n",
    "\n",
    "# put demonstration list in increasing episode order\n",
    "inds = np.argsort([int(elem[5:]) for elem in demos])\n",
    "demos = [demos[i] for i in inds]\n",
    "\n",
    "flw = h5py.File(hdf5_lw, \"r\")\n",
    "demos_lw = sorted(list(flw[\"data\"].keys()))"
   ]
  },
  {
   "cell_type": "code",
   "execution_count": 184,
   "metadata": {},
   "outputs": [],
   "source": [
    "demo = demos[0]\n",
    "demo_lw = demos_lw[0]"
   ]
  },
  {
   "cell_type": "code",
   "execution_count": 185,
   "metadata": {},
   "outputs": [],
   "source": [
    "demo_ds = f[\"data/{}\".format(demo)]\n",
    "demo_ds_lw = flw[\"data/{}\".format(demo_lw)]"
   ]
  },
  {
   "cell_type": "code",
   "execution_count": 186,
   "metadata": {},
   "outputs": [],
   "source": [
    "demo_states = demo_ds[\"states\"]\n",
    "demo_obs = demo_ds[\"obs\"]"
   ]
  },
  {
   "cell_type": "code",
   "execution_count": null,
   "metadata": {},
   "outputs": [],
   "source": [
    "for key in demo_obs.keys():\n",
    "    print(key)\n",
    "    print(demo_obs[key].shape)"
   ]
  },
  {
   "cell_type": "code",
   "execution_count": 188,
   "metadata": {},
   "outputs": [],
   "source": [
    "def compute_mapping(demo_id):\n",
    "    demo_ds = f[\"data/{}\".format(demo_id)]\n",
    "    demo_states = demo_ds[\"states\"]\n",
    "    print(\"demo_states\", demo_states.shape)\n",
    "    demo_obs = demo_ds[\"obs\"]\n",
    "    for key in demo_obs.keys():\n",
    "        if len(demo_obs[key].shape) == 2:\n",
    "            for j in range(demo_obs[key].shape[1]):\n",
    "                if np.allclose(demo_obs[key][:, j], np.zeros(demo_obs[key].shape[0])):\n",
    "                    print(f\"key {key}-{j} invalid\")\n",
    "    for i in range(demo_states.shape[1]):\n",
    "        if np.allclose(demo_states[:, i], np.zeros(demo_states.shape[0])):\n",
    "            # print(f\"line {i} all zeros, skipped\")\n",
    "            continue\n",
    "        flag = False\n",
    "        for key in demo_obs.keys():\n",
    "            if len(demo_obs[key].shape) == 2:\n",
    "                for j in range(demo_obs[key].shape[1]):\n",
    "                    if np.allclose(demo_obs[key][:, j], demo_states[:, i]):\n",
    "                        flag = True\n",
    "                        print(f\"line {i} key {key}-{j}\")\n",
    "        if not flag:\n",
    "            print(f\"line {i} unmapped\")"
   ]
  },
  {
   "cell_type": "code",
   "execution_count": null,
   "metadata": {},
   "outputs": [],
   "source": [
    "compute_mapping(demos[0])"
   ]
  },
  {
   "cell_type": "code",
   "execution_count": null,
   "metadata": {},
   "outputs": [],
   "source": [
    "compute_mapping(demos[1])"
   ]
  },
  {
   "cell_type": "code",
   "execution_count": null,
   "metadata": {},
   "outputs": [],
   "source": [
    "compute_mapping(demos[2])"
   ]
  },
  {
   "cell_type": "code",
   "execution_count": null,
   "metadata": {},
   "outputs": [],
   "source": [
    "# demo_lw_states = demo_ds_lw[\"states\"]\n",
    "# for i in range(demo_lw_states.shape[1]):\n",
    "#     if np.allclose(demo_lw_states[:, i], np.zeros(demo_lw_states.shape[0])):\n",
    "#         # print(f\"line {i} all zeros, skipped\")\n",
    "#         continue\n",
    "#     else:\n",
    "#         print(f\"line {i} valid\")"
   ]
  }
 ],
 "metadata": {
  "kernelspec": {
   "display_name": "robocasa",
   "language": "python",
   "name": "python3"
  },
  "language_info": {
   "codemirror_mode": {
    "name": "ipython",
    "version": 3
   },
   "file_extension": ".py",
   "mimetype": "text/x-python",
   "name": "python",
   "nbconvert_exporter": "python",
   "pygments_lexer": "ipython3",
   "version": "3.10.12"
  }
 },
 "nbformat": 4,
 "nbformat_minor": 2
}
